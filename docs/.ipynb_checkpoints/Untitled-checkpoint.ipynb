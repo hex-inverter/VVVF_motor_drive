{
 "cells": [
  {
   "cell_type": "code",
   "execution_count": 2,
   "id": "4486933d-405d-4d88-878c-5ff2c05bd0e6",
   "metadata": {},
   "outputs": [
    {
     "data": {
      "application/vnd.jupyter.widget-view+json": {
       "model_id": "23004bbc2ace4f0b8fa78e9bb4bc8482",
       "version_major": 2,
       "version_minor": 0
      },
      "text/plain": [
       "interactive(children=(FloatSlider(value=10.0, description='Triangular Frequency (Hz)', max=30.0, min=1.0), Flo…"
      ]
     },
     "metadata": {},
     "output_type": "display_data"
    },
    {
     "data": {
      "text/plain": [
       "<function __main__.plot_func(tri_freq, sin_freq)>"
      ]
     },
     "execution_count": 2,
     "metadata": {},
     "output_type": "execute_result"
    }
   ],
   "source": [
    "import numpy as np\n",
    "import matplotlib.pyplot as plt\n",
    "from scipy.signal import sawtooth\n",
    "from ipywidgets import interact, FloatSlider\n",
    "\n",
    "# Define the time range\n",
    "t = np.linspace(0, 1, 500, endpoint=False)\n",
    "\n",
    "def plot_func(tri_freq, sin_freq):\n",
    "    # Define the triangular function\n",
    "    triangular = sawtooth(2 * np.pi * tri_freq * t, 0.5)\n",
    "\n",
    "    # Define the sinusoidal function\n",
    "    sinusoidal = np.sin(2 * np.pi * sin_freq * t)\n",
    "\n",
    "    # Calculate where sinusoidal is higher than triangular\n",
    "    higher = sinusoidal > triangular\n",
    "\n",
    "    # Define the new wave function\n",
    "    new_wave = np.where(sinusoidal > triangular, 1, 0)\n",
    "    \n",
    "    plt.figure(figsize=(10, 8))\n",
    "\n",
    "    # Plot triangular and sinusoidal function\n",
    "    plt.subplot(2, 1, 1)\n",
    "    plt.plot(t, triangular, label='Triangular ({0} Hz)'.format(tri_freq))\n",
    "    plt.plot(t, sinusoidal, label='Sinusoidal ({0} Hz)'.format(sin_freq))\n",
    "    plt.legend(loc='upper right')\n",
    "    plt.grid(True)\n",
    "\n",
    "    # Plot new wave function\n",
    "    plt.subplot(2, 1, 2)\n",
    "    plt.plot(t, new_wave, label='New Wave')\n",
    "    plt.legend(loc='upper right')\n",
    "    plt.grid(True)\n",
    "\n",
    "    plt.show()\n",
    "\n",
    "tri_freq_slider = FloatSlider(min=1, max=30, step=0.1, value=10, description='Triangular Frequency (Hz)')\n",
    "sin_freq_slider = FloatSlider(min=4, max=5, step=0.05, value=5, description='Sinusoidal Frequency (Hz)')\n",
    "\n",
    "interact(plot_func, tri_freq=tri_freq_slider, sin_freq=sin_freq_slider)\n"
   ]
  },
  {
   "cell_type": "code",
   "execution_count": null,
   "id": "8e4eb98d-7b83-47e5-b917-0302d880da4e",
   "metadata": {},
   "outputs": [],
   "source": []
  }
 ],
 "metadata": {
  "kernelspec": {
   "display_name": "Python 3 (ipykernel)",
   "language": "python",
   "name": "python3"
  },
  "language_info": {
   "codemirror_mode": {
    "name": "ipython",
    "version": 3
   },
   "file_extension": ".py",
   "mimetype": "text/x-python",
   "name": "python",
   "nbconvert_exporter": "python",
   "pygments_lexer": "ipython3",
   "version": "3.11.3"
  }
 },
 "nbformat": 4,
 "nbformat_minor": 5
}
